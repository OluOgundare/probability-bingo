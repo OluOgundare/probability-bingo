{
 "cells": [
  {
   "cell_type": "code",
   "execution_count": 1,
   "metadata": {},
   "outputs": [
    {
     "data": {
      "text/plain": [
       "[(4.892, [['GG', 'GB', 'GB'], ['GR', 'BR', 'GB'], ['GG', 'BR', 'BB']]),\n",
       " (4.921, [['GG', 'GB', 'GB'], ['GR', 'BR', 'GR'], ['GG', 'BB', 'BB']]),\n",
       " (5.016, [['GG', 'GB', 'GB'], ['GR', 'BR', 'GR'], ['BB', 'BB', 'GG']]),\n",
       " (5.016, [['GG', 'GB', 'GB'], ['GR', 'BR', 'GB'], ['GG', 'GR', 'BB']]),\n",
       " (5.02, [['GG', 'GB', 'GB'], ['GR', 'BR', 'GR'], ['GG', 'BB', 'GG']]),\n",
       " (5.032, [['GG', 'GB', 'GB'], ['GR', 'BR', 'GR'], ['GG', 'BR', 'BB']]),\n",
       " (5.038, [['GG', 'GB', 'GB'], ['GR', 'BR', 'BR'], ['GR', 'BB', 'GG']]),\n",
       " (5.05, [['GG', 'GB', 'GG'], ['GR', 'BR', 'BR'], ['BB', 'GB', 'GB']]),\n",
       " (5.053, [['GG', 'GB', 'GB'], ['GR', 'BR', 'GR'], ['BB', 'RR', 'GG']]),\n",
       " (5.054, [['GG', 'GB', 'GB'], ['GR', 'BR', 'GR'], ['BB', 'GB', 'GG']])]"
      ]
     },
     "execution_count": 1,
     "metadata": {},
     "output_type": "execute_result"
    }
   ],
   "source": [
    "import itertools\n",
    "import random\n",
    "from copy import deepcopy\n",
    "\n",
    "# Start with optimal tiling for a 2x2 bingo board\n",
    "OPTIMAL_BOARD = [[\"GG\", \"GB\", \"\"],\n",
    "                 [\"GR\", \"BR\", \"\"],\n",
    "                 [\"\", \"\", \"\"]]\n",
    "\n",
    "# Creating list for all the possible rolls. Occurences in list represent probabilities of being selected\n",
    "possible_rolls = [\"GG\"] * 9 + [\"GB\"] * 12 + [\"GR\"] * 6 + [\"BB\"] * 4 + [\"BR\"] * 4 + [\"RR\"]\n",
    "rolls = set(possible_rolls)\n",
    "\n",
    "# Get all possible combinations for the last 5 cells\n",
    "b = list(itertools.product(rolls, repeat = 5))\n",
    "boards = {str(i + 1) : None for i in range(len(b))}\n",
    "index = 1\n",
    "for vals in b:\n",
    "    y = list(vals)\n",
    "    board = deepcopy(OPTIMAL_BOARD)\n",
    "    board[0][2] = y.pop()\n",
    "    board[1][2] = y.pop()\n",
    "    board[2][0] = y.pop()\n",
    "    board[2][1] = y.pop()\n",
    "    board[2][2] = y.pop()\n",
    "    boards[str(index)] = deepcopy(board)\n",
    "    index += 1\n",
    "\n",
    "# Function to check if board has bingo, X's in the rows, cols, on on diagonals\n",
    "def check_bingo(board):\n",
    "    for row in range(len(board)):\n",
    "        if board[row][0] == \"X\" and board[row][1] == \"X\" and board[row][2] == \"X\":\n",
    "            return True\n",
    "        if board[0][row] == \"X\" and board[1][row] == \"X\" and board[2][row] == \"X\":\n",
    "            return True\n",
    "    if board[0][0] == \"X\" and board[1][1] == \"X\" and board[2][2] == \"X\":\n",
    "        return True\n",
    "    if board[0][2] == \"X\" and board[1][1] == \"X\" and board[2][0] == \"X\":\n",
    "        return True\n",
    "    return False\n",
    "\n",
    "# Checks to see if the current tile picked can be placed on bingo board\n",
    "def check_placement(board, pick):\n",
    "    for i in range(len(board)):\n",
    "        for j in range(len(board[0])):\n",
    "            if board[i][j] == pick:\n",
    "                board[i][j] = \"X\"\n",
    "                return \n",
    "\n",
    "# Simulation to take turns for the game\n",
    "def take_turns(board):\n",
    "    tries = 0\n",
    "    while not check_bingo(board):\n",
    "        tries += 1\n",
    "        pick = random.choice(possible_rolls)\n",
    "        check_placement(board, pick)\n",
    "        if tries > 50:\n",
    "            return tries\n",
    "    return tries\n",
    "\n",
    "# Do 100,000 simulations for each board and calculate average turns taken\n",
    "avg_turns = []\n",
    "for i in boards:\n",
    "    avg_wins = [take_turns(deepcopy(boards[i])) for j in range(1000)]\n",
    "    avg_wins = sum(avg_wins) / len(avg_wins)\n",
    "    avg_turns.append((avg_wins, boards[i]))\n",
    "avg_turns.sort(key = lambda x : x[0])\n",
    "\n",
    "# Output top 10 boards\n",
    "avg_turns[:10] "
   ]
  },
  {
   "cell_type": "code",
   "execution_count": 2,
   "metadata": {},
   "outputs": [
    {
     "data": {
      "text/plain": [
       "[(4.892, [['GG', 'GB', 'GB'], ['GR', 'BR', 'GB'], ['GG', 'BR', 'BB']]),\n",
       " (4.921, [['GG', 'GB', 'GB'], ['GR', 'BR', 'GR'], ['GG', 'BB', 'BB']]),\n",
       " (5.016, [['GG', 'GB', 'GB'], ['GR', 'BR', 'GR'], ['BB', 'BB', 'GG']]),\n",
       " (5.016, [['GG', 'GB', 'GB'], ['GR', 'BR', 'GB'], ['GG', 'GR', 'BB']]),\n",
       " (5.02, [['GG', 'GB', 'GB'], ['GR', 'BR', 'GR'], ['GG', 'BB', 'GG']]),\n",
       " (5.032, [['GG', 'GB', 'GB'], ['GR', 'BR', 'GR'], ['GG', 'BR', 'BB']]),\n",
       " (5.038, [['GG', 'GB', 'GB'], ['GR', 'BR', 'BR'], ['GR', 'BB', 'GG']]),\n",
       " (5.05, [['GG', 'GB', 'GG'], ['GR', 'BR', 'BR'], ['BB', 'GB', 'GB']]),\n",
       " (5.053, [['GG', 'GB', 'GB'], ['GR', 'BR', 'GR'], ['BB', 'RR', 'GG']]),\n",
       " (5.054, [['GG', 'GB', 'GB'], ['GR', 'BR', 'GR'], ['BB', 'GB', 'GG']])]"
      ]
     },
     "execution_count": 2,
     "metadata": {},
     "output_type": "execute_result"
    }
   ],
   "source": [
    "avg_turns[:10]"
   ]
  },
  {
   "cell_type": "code",
   "execution_count": null,
   "metadata": {},
   "outputs": [],
   "source": []
  }
 ],
 "metadata": {
  "kernelspec": {
   "display_name": "base",
   "language": "python",
   "name": "python3"
  },
  "language_info": {
   "codemirror_mode": {
    "name": "ipython",
    "version": 3
   },
   "file_extension": ".py",
   "mimetype": "text/x-python",
   "name": "python",
   "nbconvert_exporter": "python",
   "pygments_lexer": "ipython3",
   "version": "3.9.13"
  }
 },
 "nbformat": 4,
 "nbformat_minor": 2
}
