{
 "cells": [
  {
   "cell_type": "code",
   "execution_count": 1,
   "metadata": {},
   "outputs": [],
   "source": [
    "import numpy as np\n",
    "import random\n",
    "import itertools\n",
    "import math\n",
    "\n",
    "# random.seed(48)\n",
    "\n",
    "# # Creating list for all the possible rolls. Occurences in list represent probabilities of being selected\n",
    "# possible_rolls = [\"GG\"] * 9 + [\"GB\"] * 12 + [\"GR\"] * 6 + [\"BB\"] * 4 + [\"BR\"] * 4 + [\"RR\"]\n",
    "# rolls = set(possible_rolls)\n",
    "\n",
    "# # Create tuples of all\n",
    "# b = list(itertools.product(itertools.product(rolls, repeat = 2), repeat = 2))\n",
    "# boards = {str(i + 1) : [v[0][0], v[0][1], v[1][0], v[1][1]] for i, v in enumerate(b)}\n",
    "\n",
    "# def check_wins(board):\n",
    "#     successes = 0\n",
    "#     tries = 0\n",
    "#     while successes != 2:\n",
    "#         tries += 1\n",
    "#         pick = random.choice(possible_rolls)\n",
    "#         if pick in board:\n",
    "#             successes += 1\n",
    "#             board.remove(pick)\n",
    "#         if tries > 20:\n",
    "#             return tries\n",
    "#     return tries\n",
    "\n",
    "# avg_turns = []\n",
    "# for i in boards:\n",
    "#     avg_wins = [check_wins(boards[i][:]) for j in range(100000)]\n",
    "#     avg_wins = sum(avg_wins) / len(avg_wins)\n",
    "#     avg_turns.append((avg_wins, boards[i]))\n",
    "# avg_turns.sort(key = lambda x : x[0])\n",
    "\n",
    "# avg_turns[:5]"
   ]
  },
  {
   "cell_type": "code",
   "execution_count": 2,
   "metadata": {},
   "outputs": [],
   "source": [
    "# Creating list for all the possible rolls. Occurences in list represent probabilities of being selected\n",
    "possible_rolls = [\"GG\"] * 9 + [\"GB\"] * 12 + [\"GR\"] * 6 + [\"BB\"] * 4 + [\"BR\"] * 4 + [\"RR\"]\n",
    "rolls = set(possible_rolls)"
   ]
  },
  {
   "cell_type": "code",
   "execution_count": 3,
   "metadata": {},
   "outputs": [],
   "source": [
    "b = list(itertools.product(itertools.product(rolls, repeat = 2), repeat = 2))\n",
    "boards = {str(i + 1) : [v[0][0], v[0][1], v[1][0], v[1][1]] for i, v in enumerate(b)}"
   ]
  },
  {
   "cell_type": "code",
   "execution_count": 4,
   "metadata": {},
   "outputs": [],
   "source": [
    "def check_wins(board):\n",
    "    successes = 0\n",
    "    tries = 0\n",
    "    while successes != 2:\n",
    "        tries += 1\n",
    "        pick = random.choice(possible_rolls)\n",
    "        if pick in board:\n",
    "            successes += 1\n",
    "            board.remove(pick)\n",
    "        if tries > 20:\n",
    "            return tries\n",
    "    return tries\n",
    "\n"
   ]
  },
  {
   "cell_type": "code",
   "execution_count": 5,
   "metadata": {},
   "outputs": [],
   "source": [
    "avg_turns = []\n",
    "for i in boards:\n",
    "    avg_wins = [check_wins(boards[i][:]) for j in range(100000)]\n",
    "    avg_wins = sum(avg_wins) / len(avg_wins)\n",
    "    avg_turns.append((avg_wins, boards[i]))\n",
    "avg_turns.sort(key = lambda x : x[0])"
   ]
  },
  {
   "cell_type": "code",
   "execution_count": 6,
   "metadata": {},
   "outputs": [
    {
     "data": {
      "text/plain": [
       "[(2.81404, ['GB', 'BR', 'GR', 'GG']),\n",
       " (2.81599, ['GR', 'GG', 'GB', 'BR']),\n",
       " (2.81617, ['BB', 'GG', 'GR', 'GB']),\n",
       " (2.8162, ['BR', 'GB', 'GR', 'GG']),\n",
       " (2.81645, ['GR', 'GB', 'BR', 'GG'])]"
      ]
     },
     "execution_count": 6,
     "metadata": {},
     "output_type": "execute_result"
    }
   ],
   "source": [
    "avg_turns[:5]"
   ]
  },
  {
   "cell_type": "code",
   "execution_count": null,
   "metadata": {},
   "outputs": [],
   "source": []
  }
 ],
 "metadata": {
  "kernelspec": {
   "display_name": "base",
   "language": "python",
   "name": "python3"
  },
  "language_info": {
   "codemirror_mode": {
    "name": "ipython",
    "version": 3
   },
   "file_extension": ".py",
   "mimetype": "text/x-python",
   "name": "python",
   "nbconvert_exporter": "python",
   "pygments_lexer": "ipython3",
   "version": "3.9.13"
  }
 },
 "nbformat": 4,
 "nbformat_minor": 2
}
