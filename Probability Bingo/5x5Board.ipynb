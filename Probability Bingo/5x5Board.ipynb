{
 "cells": [
  {
   "cell_type": "code",
   "execution_count": 9,
   "metadata": {},
   "outputs": [],
   "source": [
    "import itertools\n",
    "import random\n",
    "from copy import deepcopy\n",
    "\n",
    "random.seed(48)\n",
    "\n",
    "# # Start with optimal tiling for a 5x5 bingo board\n",
    "OPTIMAL_BOARD = [['GG', 'GB', 'GB', 'GR', ''],\n",
    "                 ['GR', 'BR', 'GB', 'BB', ''],\n",
    "                 ['GG', 'BR', 'BB', 'BR', ''],\n",
    "                 ['GG', 'BB', 'GR', 'BR', ''], \n",
    "                 ['', '', '', '', '']]\n",
    "\n"
   ]
  },
  {
   "cell_type": "code",
   "execution_count": 10,
   "metadata": {},
   "outputs": [],
   "source": [
    "# Creating list for all the possible rolls. Occurences in list represent probabilities of being selected\n",
    "possible_rolls = [\"GG\"] * 9 + [\"GB\"] * 12 + [\"GR\"] * 6 + [\"BB\"] * 4 + [\"BR\"] * 4 + [\"RR\"]\n",
    "rolls = set(possible_rolls)\n",
    "# Get all possible combinations for the last 9 cells\n",
    "b = list(itertools.product(rolls, repeat = 9))\n"
   ]
  },
  {
   "cell_type": "code",
   "execution_count": 11,
   "metadata": {},
   "outputs": [],
   "source": [
    "b = list(filter(lambda x : \"RR\" in x and \"GG\" in x and \"BR\" in x and len(set(x)) >= 4 , b ))"
   ]
  },
  {
   "cell_type": "code",
   "execution_count": 12,
   "metadata": {},
   "outputs": [],
   "source": [
    "index = 1\n",
    "# Fill in remaining 7 spots on the board\n",
    "def get_boards(b):\n",
    "    for vals in b:\n",
    "        board = deepcopy(OPTIMAL_BOARD)\n",
    "        board[0][4] = vals[0]\n",
    "        board[1][4] = vals[1]\n",
    "        board[2][4] = vals[2]\n",
    "        board[3][4] = vals[3]\n",
    "        board[4][0] = vals[4]\n",
    "        board[4][1] = vals[5]\n",
    "        board[4][2] = vals[6]\n",
    "        board[4][3] = vals[7]\n",
    "        board[4][4] = vals[8]\n",
    "\n",
    "        yield board"
   ]
  },
  {
   "cell_type": "code",
   "execution_count": 13,
   "metadata": {},
   "outputs": [],
   "source": [
    "boards = get_boards(b)"
   ]
  },
  {
   "cell_type": "code",
   "execution_count": 14,
   "metadata": {},
   "outputs": [],
   "source": [
    "# Function to check if board has bingo, X's in the rows, cols, on on diagonals\n",
    "def check_bingo(board):\n",
    "    for row in range(len(board)):\n",
    "        if all(board[row][col] == \"X\" for col in range(5)) or all(board[col][row] == \"X\" for col in range(5)):\n",
    "            return True\n",
    "    if all(board[i][i] == \"X\" for i in range(5)) or all(board[i][4-i] == \"X\" for i in range(5)):\n",
    "        return True\n",
    "    return False\n",
    "\n",
    "# Checks to see if the current tile picked can be placed on bingo board\n",
    "def check_placement(board, pick):\n",
    "    for i in range(len(board)):\n",
    "        for j in range(len(board[0])):\n",
    "            if board[i][j] == pick:\n",
    "                board[i][j] = \"X\"\n",
    "                return \n",
    "\n",
    "# Simulation to take turns for the game\n",
    "def take_turns(board):\n",
    "    tries = 0\n",
    "    while not check_bingo(board):\n",
    "        tries += 1\n",
    "        pick = random.choice(possible_rolls)\n",
    "        check_placement(board, pick)\n",
    "        if tries > 20:\n",
    "            return tries\n",
    "    return tries"
   ]
  },
  {
   "cell_type": "code",
   "execution_count": 15,
   "metadata": {},
   "outputs": [],
   "source": [
    "def check_better(bb, board, turns):\n",
    "    worst = [-1000, 0] # Score : Index\n",
    "    for index, tup in enumerate(bb):\n",
    "        if tup[0] > worst[0]:\n",
    "            worst[0] = tup[0]\n",
    "            worst[1] = index\n",
    "    if turns < worst[0]:\n",
    "        bb[worst[1]] = (turns, board)\n",
    "\n",
    "def check_worse(wb, board, turns):\n",
    "    best_worst = [1000, 0] # Score : Index\n",
    "    for index, tup in enumerate(wb):\n",
    "        if tup[0] < best_worst[0]:\n",
    "            best_worst[0] = tup[0]\n",
    "            best_worst[1] = index\n",
    "    if turns > best_worst[0]:\n",
    "        wb[best_worst[1]] = (turns, board)"
   ]
  },
  {
   "cell_type": "code",
   "execution_count": 17,
   "metadata": {},
   "outputs": [],
   "source": [
    "# Do 100,000 simulations for each board and calculate average turns taken\n",
    "best_boards = [(i+100, None) for i in range(5)]\n",
    "worst_boards = [(i-100, None) for i in range(5)]\n",
    "while True:\n",
    "    try:\n",
    "        board = next(boards)\n",
    "        avg_turns = [take_turns(deepcopy(board)) for _ in range(3)]\n",
    "        avg_turns = sum(avg_turns) / len(avg_turns)\n",
    "        check_better(best_boards, board, avg_turns)\n",
    "        check_worse(worst_boards, board, avg_turns)\n",
    "    except StopIteration:\n",
    "        break\n",
    "best_boards"
   ]
  },
  {
   "cell_type": "code",
   "execution_count": 2,
   "metadata": {},
   "outputs": [
    {
     "data": {
      "text/plain": [
       "[(8.92,\n",
       "  [['GG', 'GB', 'GB', 'GR', 'GB'],\n",
       "   ['GR', 'BR', 'GB', 'BB', 'RR'],\n",
       "   ['GG', 'BR', 'BB', 'BR', 'BB'],\n",
       "   ['GG', 'BB', 'GR', 'BR', 'BB'],\n",
       "   ['GG', 'BR', 'BR', 'GB', 'RR']]),\n",
       " (8.98,\n",
       "  [['GG', 'GB', 'GB', 'GR', 'GG'],\n",
       "   ['GR', 'BR', 'GB', 'BB', 'BB'],\n",
       "   ['GG', 'BR', 'BB', 'BR', 'BR'],\n",
       "   ['GG', 'BB', 'GR', 'BR', 'BR'],\n",
       "   ['RR', 'GR', 'BB', 'GG', 'GG']]),\n",
       " (8.99,\n",
       "  [['GG', 'GB', 'GB', 'GR', 'GG'],\n",
       "   ['GR', 'BR', 'GB', 'BB', 'GB'],\n",
       "   ['GG', 'BR', 'BB', 'BR', 'BR'],\n",
       "   ['GG', 'BB', 'GR', 'BR', 'RR'],\n",
       "   ['GR', 'GB', 'GB', 'GB', 'GB']]),\n",
       " (9.02,\n",
       "  [['GG', 'GB', 'GB', 'GR', 'GG'],\n",
       "   ['GR', 'BR', 'GB', 'BB', 'GB'],\n",
       "   ['GG', 'BR', 'BB', 'BR', 'GG'],\n",
       "   ['GG', 'BB', 'GR', 'BR', 'RR'],\n",
       "   ['BB', 'BR', 'GR', 'GG', 'RR']]),\n",
       " (9.02,\n",
       "  [['GG', 'GB', 'GB', 'GR', 'GG'],\n",
       "   ['GR', 'BR', 'GB', 'BB', 'GR'],\n",
       "   ['GG', 'BR', 'BB', 'BR', 'BR'],\n",
       "   ['GG', 'BB', 'GR', 'BR', 'RR'],\n",
       "   ['GG', 'BR', 'BB', 'GR', 'GB']])]"
      ]
     },
     "execution_count": 2,
     "metadata": {},
     "output_type": "execute_result"
    }
   ],
   "source": [
    "x = [(9.02, [['GG', 'GB', 'GB', 'GR', 'GG'], ['GR', 'BR', 'GB', 'BB', 'GR'], ['GG', 'BR', 'BB', 'BR', 'BR'], ['GG', 'BB', 'GR', 'BR', 'RR'], ['GG', 'BR', 'BB', 'GR', 'GB']]), \n",
    " (8.99, [['GG', 'GB', 'GB', 'GR', 'GG'], ['GR', 'BR', 'GB', 'BB', 'GB'], ['GG', 'BR', 'BB', 'BR', 'BR'], ['GG', 'BB', 'GR', 'BR', 'RR'], ['GR', 'GB', 'GB', 'GB', 'GB']]), \n",
    " (9.02, [['GG', 'GB', 'GB', 'GR', 'GG'], ['GR', 'BR', 'GB', 'BB', 'GB'], ['GG', 'BR', 'BB', 'BR', 'GG'], ['GG', 'BB', 'GR', 'BR', 'RR'], ['BB', 'BR', 'GR', 'GG', 'RR']]), \n",
    " (8.98, [['GG', 'GB', 'GB', 'GR', 'GG'], ['GR', 'BR', 'GB', 'BB', 'BB'], ['GG', 'BR', 'BB', 'BR', 'BR'], ['GG', 'BB', 'GR', 'BR', 'BR'], ['RR', 'GR', 'BB', 'GG', 'GG']]), \n",
    " (8.92, [['GG', 'GB', 'GB', 'GR', 'GB'], ['GR', 'BR', 'GB', 'BB', 'RR'], ['GG', 'BR', 'BB', 'BR', 'BB'], ['GG', 'BB', 'GR', 'BR', 'BB'], ['GG', 'BR', 'BR', 'GB', 'RR']])]\n",
    "sorted(x)"
   ]
  },
  {
   "cell_type": "code",
   "execution_count": null,
   "metadata": {},
   "outputs": [],
   "source": []
  }
 ],
 "metadata": {
  "kernelspec": {
   "display_name": "base",
   "language": "python",
   "name": "python3"
  },
  "language_info": {
   "codemirror_mode": {
    "name": "ipython",
    "version": 3
   },
   "file_extension": ".py",
   "mimetype": "text/x-python",
   "name": "python",
   "nbconvert_exporter": "python",
   "pygments_lexer": "ipython3",
   "version": "3.9.13"
  }
 },
 "nbformat": 4,
 "nbformat_minor": 2
}
