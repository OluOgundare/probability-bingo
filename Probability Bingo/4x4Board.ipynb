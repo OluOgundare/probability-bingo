{
 "cells": [
  {
   "cell_type": "code",
   "execution_count": 33,
   "metadata": {},
   "outputs": [],
   "source": [
    "import itertools\n",
    "import random\n",
    "import numpy as np\n",
    "from copy import deepcopy\n",
    "\n",
    "random.seed(48)\n",
    "\n",
    "# # Start with optimal tiling for a 3x3 bingo board\n",
    "OPTIMAL_BOARD = [[\"GG\", \"GB\", \"GB\", \"\"],\n",
    "                 [\"GR\", \"BR\", \"GB\", \"\"],\n",
    "                 [\"GG\", \"BR\", \"BB\", \"\"], \n",
    "                 [\"\", \"\", \"\", \"\"]]"
   ]
  },
  {
   "cell_type": "code",
   "execution_count": 34,
   "metadata": {},
   "outputs": [],
   "source": [
    "# Creating list for all the possible rolls. Occurences in list represent probabilities of being selected\n",
    "possible_rolls = [\"GG\"] * 9 + [\"GB\"] * 12 + [\"GR\"] * 6 + [\"BB\"] * 4 + [\"BR\"] * 4 + [\"RR\"]\n",
    "rolls = set(possible_rolls)\n",
    "# Get all possible combinations for the last 7 cells\n",
    "b = list(itertools.product(rolls, repeat = 7))\n",
    "boards = {str(i + 1) : None for i in range(len(b))}"
   ]
  },
  {
   "cell_type": "code",
   "execution_count": 36,
   "metadata": {},
   "outputs": [],
   "source": [
    "index = 1\n",
    "# Fill in remaining 7 spots on the board\n",
    "for vals in b:\n",
    "    board = deepcopy(OPTIMAL_BOARD)\n",
    "    board[0][3] = vals[0]\n",
    "    board[1][3] = vals[1]\n",
    "    board[2][3] = vals[2]\n",
    "    board[3][0] = vals[3]\n",
    "    board[3][1] = vals[4]\n",
    "    board[3][2] = vals[5]\n",
    "    board[3][3] = vals[6]\n",
    "\n",
    "    boards[str(index)] = np.array(deepcopy(board))\n",
    "    index += 1"
   ]
  },
  {
   "cell_type": "code",
   "execution_count": 37,
   "metadata": {},
   "outputs": [],
   "source": [
    "# Function to check if board has bingo, X's in the rows, cols, on on diagonals\n",
    "def check_bingo(board):\n",
    "    for row in range(len(board)):\n",
    "        if board[row][0] == \"X\" and board[row][1] == \"X\" and board[row][2] == \"X\" and board[row][3] == \"X\":\n",
    "            return True\n",
    "        if board[0][row] == \"X\" and board[1][row] == \"X\" and board[2][row] == \"X\" and board[3][row] == \"X\":\n",
    "            return True\n",
    "    if board[0][0] == \"X\" and board[1][1] == \"X\" and board[2][2] == \"X\" and board[3][3] == \"X\":\n",
    "        return True\n",
    "    if board[0][3] == \"X\" and board[1][2] == \"X\" and board[2][1] == \"X\" and board[3][0] == \"X\":\n",
    "        return True\n",
    "    return False\n",
    "\n",
    "# Checks to see if the current tile picked can be placed on bingo board\n",
    "def check_placement(board, pick):\n",
    "    if pick in board.flatten():\n",
    "        for i in range(len(board)):\n",
    "            for j in range(len(board[0])):\n",
    "                if board[i][j] == pick:\n",
    "                    board[i][j] = \"X\"\n",
    "                    return \n",
    "\n",
    "# Simulation to take turns for the game\n",
    "def take_turns(board):\n",
    "    tries = 0\n",
    "    while not check_bingo(board):\n",
    "        tries += 1\n",
    "        pick = random.choice(possible_rolls)\n",
    "        check_placement(board, pick)\n",
    "        if tries > 20:\n",
    "            return tries\n",
    "    return tries"
   ]
  },
  {
   "cell_type": "code",
   "execution_count": 38,
   "metadata": {},
   "outputs": [
    {
     "data": {
      "text/plain": [
       "[(5.96,\n",
       "  array([['GG', 'GB', 'GB', 'GR'],\n",
       "         ['GR', 'BR', 'GB', 'BB'],\n",
       "         ['GG', 'BR', 'BB', 'BR'],\n",
       "         ['GG', 'BB', 'GR', 'BR']], dtype='<U2')),\n",
       " (6.04,\n",
       "  array([['GG', 'GB', 'GB', 'GR'],\n",
       "         ['GR', 'BR', 'GB', 'GR'],\n",
       "         ['GG', 'BR', 'BB', 'RR'],\n",
       "         ['GG', 'BB', 'GB', 'BR']], dtype='<U2')),\n",
       " (6.04,\n",
       "  array([['GG', 'GB', 'GB', 'GB'],\n",
       "         ['GR', 'BR', 'GB', 'GB'],\n",
       "         ['GG', 'BR', 'BB', 'BB'],\n",
       "         ['RR', 'RR', 'GR', 'GG']], dtype='<U2')),\n",
       " (6.08,\n",
       "  array([['GG', 'GB', 'GB', 'GR'],\n",
       "         ['GR', 'BR', 'GB', 'RR'],\n",
       "         ['GG', 'BR', 'BB', 'GG'],\n",
       "         ['RR', 'RR', 'GB', 'RR']], dtype='<U2')),\n",
       " (6.12,\n",
       "  array([['GG', 'GB', 'GB', 'GR'],\n",
       "         ['GR', 'BR', 'GB', 'RR'],\n",
       "         ['GG', 'BR', 'BB', 'RR'],\n",
       "         ['BB', 'BR', 'GB', 'GG']], dtype='<U2')),\n",
       " (6.2,\n",
       "  array([['GG', 'GB', 'GB', 'GB'],\n",
       "         ['GR', 'BR', 'GB', 'GB'],\n",
       "         ['GG', 'BR', 'BB', 'BB'],\n",
       "         ['GG', 'GR', 'RR', 'GG']], dtype='<U2')),\n",
       " (6.2,\n",
       "  array([['GG', 'GB', 'GB', 'BB'],\n",
       "         ['GR', 'BR', 'GB', 'GR'],\n",
       "         ['GG', 'BR', 'BB', 'GR'],\n",
       "         ['GG', 'RR', 'GR', 'GG']], dtype='<U2')),\n",
       " (6.24,\n",
       "  array([['GG', 'GB', 'GB', 'GR'],\n",
       "         ['GR', 'BR', 'GB', 'BB'],\n",
       "         ['GG', 'BR', 'BB', 'RR'],\n",
       "         ['GB', 'BR', 'GG', 'GG']], dtype='<U2')),\n",
       " (6.24,\n",
       "  array([['GG', 'GB', 'GB', 'GG'],\n",
       "         ['GR', 'BR', 'GB', 'GB'],\n",
       "         ['GG', 'BR', 'BB', 'RR'],\n",
       "         ['GG', 'GR', 'BB', 'GR']], dtype='<U2')),\n",
       " (6.28,\n",
       "  array([['GG', 'GB', 'GB', 'GB'],\n",
       "         ['GR', 'BR', 'GB', 'GB'],\n",
       "         ['GG', 'BR', 'BB', 'GB'],\n",
       "         ['GR', 'BR', 'BB', 'GB']], dtype='<U2'))]"
      ]
     },
     "execution_count": 38,
     "metadata": {},
     "output_type": "execute_result"
    }
   ],
   "source": [
    "# Do 100,000 simulations for each board and calculate average turns taken\n",
    "avg_turns = []\n",
    "for i in boards:\n",
    "    avg_wins = [take_turns(deepcopy(boards[i])) for j in range(25)]\n",
    "    avg_wins = sum(avg_wins) / len(avg_wins)\n",
    "    avg_turns.append((avg_wins, boards[i]))\n",
    "avg_turns.sort(key = lambda x : x[0])\n",
    "\n",
    "# Output top 10 boards\n",
    "avg_turns[:10] "
   ]
  },
  {
   "cell_type": "code",
   "execution_count": 46,
   "metadata": {},
   "outputs": [
    {
     "data": {
      "text/plain": [
       "(6.04,\n",
       " array([['GG', 'GB', 'GB', 'GR'],\n",
       "        ['GR', 'BR', 'GB', 'GR'],\n",
       "        ['GG', 'BR', 'BB', 'RR'],\n",
       "        ['GG', 'BB', 'GB', 'BR']], dtype='<U2'))"
      ]
     },
     "execution_count": 46,
     "metadata": {},
     "output_type": "execute_result"
    }
   ],
   "source": [
    "avg_turns[1]"
   ]
  },
  {
   "cell_type": "code",
   "execution_count": null,
   "metadata": {},
   "outputs": [],
   "source": []
  }
 ],
 "metadata": {
  "kernelspec": {
   "display_name": "base",
   "language": "python",
   "name": "python3"
  },
  "language_info": {
   "codemirror_mode": {
    "name": "ipython",
    "version": 3
   },
   "file_extension": ".py",
   "mimetype": "text/x-python",
   "name": "python",
   "nbconvert_exporter": "python",
   "pygments_lexer": "ipython3",
   "version": "3.9.13"
  }
 },
 "nbformat": 4,
 "nbformat_minor": 2
}
